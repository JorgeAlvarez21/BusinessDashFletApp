{
 "cells": [
  {
   "cell_type": "markdown",
   "id": "c1aaad33-1d8d-4ef8-a32a-452b29fed76b",
   "metadata": {},
   "source": [
    "### Creating daummy data from real data for testing and publishing."
   ]
  },
  {
   "cell_type": "code",
   "execution_count": 46,
   "id": "ea2279ce-f25d-4ef0-875f-880a2633a1e9",
   "metadata": {},
   "outputs": [
    {
     "name": "stdout",
     "output_type": "stream",
     "text": [
      "Requirement already satisfied: Faker in /opt/anaconda3/lib/python3.9/site-packages (15.3.2)\n",
      "Requirement already satisfied: python-dateutil>=2.4 in /opt/anaconda3/lib/python3.9/site-packages (from Faker) (2.8.2)\n",
      "Requirement already satisfied: six>=1.5 in /opt/anaconda3/lib/python3.9/site-packages (from python-dateutil>=2.4->Faker) (1.16.0)\n",
      "Note: you may need to restart the kernel to use updated packages.\n"
     ]
    }
   ],
   "source": [
    "pip install Faker"
   ]
  },
  {
   "cell_type": "code",
   "execution_count": 2,
   "id": "7d01fcfa-8d87-41db-bbb4-07529d2fc843",
   "metadata": {},
   "outputs": [],
   "source": [
    "import pandas as pd\n",
    "import numpy as np\n",
    "import random\n",
    "import requests\n",
    "from faker import Faker # Module to generate dummy customer data\n",
    "fake = Faker()\n",
    "pd.set_option('display.max_columns', None)"
   ]
  },
  {
   "cell_type": "code",
   "execution_count": 130,
   "id": "b6d59276-c8db-469f-aff1-428abd1697cd",
   "metadata": {},
   "outputs": [],
   "source": [
    "file_ext = 'updData'\n",
    "etsy_orders = pd.read_csv(f'{file_ext}/etsy-sold-orders.csv')\n",
    "etsy_deposits = pd.read_csv(f'{file_ext}/etsy-deposits.csv')\n",
    "etsy_items = pd.read_csv(f'{file_ext}/etsy-sold-order-items.csv')\n",
    "etsy_payments = pd.read_csv(f'{file_ext}/etsy-direct-checkout-payments.csv')\n",
    "\n",
    "yoycol_orders = pd.read_csv(f'{file_ext}/yoycol-order-details.csv')\n",
    "\n",
    "printify_orders = pd.read_csv(f'{file_ext}/printify-orders.csv')\n",
    "printify_orders_2 = pd.read_csv(f'{file_ext}/printify-orders_2.csv')\n",
    "printify_orders_3 = pd.read_csv(f'{file_ext}/printify_orders_3.csv')\n",
    "printify_orders_4 = pd.read_csv(f'{file_ext}/printify_orders_4.csv')\n"
   ]
  },
  {
   "cell_type": "code",
   "execution_count": 131,
   "id": "f8b034e9-8ad1-408c-b696-75fc2bee37c8",
   "metadata": {},
   "outputs": [],
   "source": [
    "df = etsy_orders.copy()\n",
    "df.dropna(axis=1, inplace=True)\n",
    "df.drop(columns=['Street 1', 'Ship City', 'Ship Zipcode', 'Ship Country', 'Buyer', 'Payment Type', 'SKU'], inplace=True)"
   ]
  },
  {
   "cell_type": "code",
   "execution_count": 133,
   "id": "6f87043d-d488-4648-a8d7-08bbac9700b0",
   "metadata": {},
   "outputs": [],
   "source": [
    "df['Order ID'] = [int(random.random()*10000000000) for x in range(len(df['Order ID'] ))]\n",
    "df.columns"
   ]
  },
  {
   "cell_type": "code",
   "execution_count": 8,
   "id": "d6a44e67-41fc-42d0-b09a-0eb9ed65544e",
   "metadata": {},
   "outputs": [
    {
     "name": "stdout",
     "output_type": "stream",
     "text": [
      "Lisa Hoffman\n",
      "Nicholas Mckenzie\n",
      "Thomas King\n",
      "Christian Williams\n",
      "Katelyn Wells\n",
      "Stacy Leach\n",
      "Anna Wood\n",
      "Ryan Williams\n",
      "John Patton\n",
      "Evan Whitaker\n",
      "Maria Elliott\n",
      "Jennifer Cordova\n",
      "Eric Young\n",
      "Joshua James\n",
      "Michael Henry\n",
      "Kelly Flowers\n",
      "Jane Sheppard\n",
      "Eric Johnson\n",
      "Miss Jordan Jones\n",
      "Kathleen Boyer\n",
      "Tonya James\n",
      "Steve Anderson DDS\n",
      "Joshua Hawkins\n",
      "Patricia Lane MD\n",
      "Kiara Johnson\n",
      "Tina Morgan\n",
      "Mary Benitez\n",
      "Jesus Cruz\n",
      "Susan Pena\n",
      "Mariah Carson\n"
     ]
    }
   ],
   "source": [
    "for x in range(30):\n",
    "    print(fake.name())"
   ]
  },
  {
   "cell_type": "code",
   "execution_count": null,
   "id": "30badbca",
   "metadata": {},
   "outputs": [],
   "source": [
    "df['Full Name'] = [fake.name() for x in range(len(df['Order ID'] ))]"
   ]
  },
  {
   "cell_type": "code",
   "execution_count": null,
   "id": "132f1941",
   "metadata": {},
   "outputs": [],
   "source": [
    "first = []\n",
    "for x in list(df['Full Name']):\n",
    "    f = x.split(\" \")\n",
    "    first.append(f[0])\n",
    "df['First Name'] = [first[x] for x in range(len(df['Order ID'] ))]"
   ]
  },
  {
   "cell_type": "code",
   "execution_count": null,
   "id": "fe8e2553",
   "metadata": {},
   "outputs": [],
   "source": [
    "address_street = []\n",
    "address_ship = []\n",
    "for x in list(df['Order ID']):\n",
    "    addr = fake.address()\n",
    "    f = addr.split(\"\\n\")\n",
    "    address_ship.append(f)\n",
    "    address_street.append(f[0])"
   ]
  },
  {
   "cell_type": "code",
   "execution_count": null,
   "id": "a70456e3-05b9-4b68-be86-cfa45f56aa32",
   "metadata": {},
   "outputs": [],
   "source": [
    "df['Ship Address'] = [x for x in address_ship]\n",
    "df['Street1'] = [x for x in address_street]"
   ]
  },
  {
   "cell_type": "code",
   "execution_count": null,
   "id": "deed3c60-750a-4f4b-950e-6b0979e6e419",
   "metadata": {},
   "outputs": [],
   "source": []
  }
 ],
 "metadata": {
  "kernelspec": {
   "display_name": "Python 3.10.4 ('benvpg')",
   "language": "python",
   "name": "python3"
  },
  "language_info": {
   "codemirror_mode": {
    "name": "ipython",
    "version": 3
   },
   "file_extension": ".py",
   "mimetype": "text/x-python",
   "name": "python",
   "nbconvert_exporter": "python",
   "pygments_lexer": "ipython3",
   "version": "3.10.4"
  },
  "vscode": {
   "interpreter": {
    "hash": "ca60d2011ac5b0b8b307810e979e8c4c8170861c4ba2fcbb5e2b458a415fe839"
   }
  }
 },
 "nbformat": 4,
 "nbformat_minor": 5
}
