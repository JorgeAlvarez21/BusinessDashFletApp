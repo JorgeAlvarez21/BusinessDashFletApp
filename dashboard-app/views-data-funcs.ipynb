{
 "cells": [
  {
   "cell_type": "code",
   "execution_count": 14,
   "id": "fe9e900f-53ba-43bb-a600-fdf2d27f4c30",
   "metadata": {},
   "outputs": [],
   "source": [
    "#Imports\n",
    "import pandas as pd\n",
    "import matplotlib.pyplot as plt\n",
    "import datetime\n",
    "from scipy.interpolate import make_interp_spline\n",
    "import numpy as np\n",
    "from matplotlib.collections import LineCollection\n",
    "import sqlite3\n",
    "pd.set_option('display.max_columns', None)\n",
    "\n",
    "import os"
   ]
  },
  {
   "cell_type": "markdown",
   "id": "4a30597f-66d2-4188-af04-c9f443bf96ba",
   "metadata": {},
   "source": [
    "## Loading Datasets\n",
    "Note ; If name already exists in file, add extension _{digit} Example -> etsy-sold-orders.csv becomes etsy-sold-orders_2.csv\n",
    "####    Etsy dataset names\n",
    "````\n",
    "- etsy-sold-orders.csv\n",
    "- etsy-deposits.csv\n",
    "- etsy-sold-order-items.csv\n",
    "- etsy-direct-checkout-payments.csv\n",
    "````\n",
    "    \n",
    "####    Yoycol dataset names\n",
    "````\n",
    "- yoycol-order-details.csv\n",
    "````\n",
    "####    Printify dataset names\n",
    "````\n",
    "- printify-orders.csv\n",
    "- printify-orders_2.csv\n",
    " ````"
   ]
  },
  {
   "cell_type": "code",
   "execution_count": 15,
   "id": "4e71b18d-7b4b-4a88-8ca9-7ff5c0d14d86",
   "metadata": {},
   "outputs": [],
   "source": [
    "file_ext = 'updData'\n",
    "\n",
    "etsy_orders = pd.read_csv(f'{file_ext}/etsy-sold-orders.csv')\n",
    "etsy_deposits = pd.read_csv(f'{file_ext}/etsy-deposits.csv')\n",
    "etsy_items = pd.read_csv(f'{file_ext}/etsy-sold-order-items.csv')\n",
    "etsy_payments = pd.read_csv(f'{file_ext}/etsy-direct-checkout-payments.csv')\n",
    "\n",
    "yoycol_orders = pd.read_csv(f'{file_ext}/yoycol-order-details.csv')\n",
    "\n",
    "printify_orders = pd.read_csv(f'{file_ext}/printify-orders.csv')\n",
    "printify_orders_2 = pd.read_csv(f'{file_ext}/printify-orders_2.csv')\n",
    "printify_orders_3 = pd.read_csv(f'{file_ext}/printify_orders_3.csv')\n",
    "printify_orders_4 = pd.read_csv(f'{file_ext}/printify_orders_4.csv')"
   ]
  },
  {
   "cell_type": "markdown",
   "id": "88b2d22c-c304-4d0e-b41a-8c541a929be8",
   "metadata": {},
   "source": [
    "# Connecting to Sqlite3 Database"
   ]
  },
  {
   "cell_type": "markdown",
   "id": "068df5de-f87b-414c-a870-8b0741519d24",
   "metadata": {},
   "source": [
    "#### Creating Database and connecting to it"
   ]
  },
  {
   "cell_type": "code",
   "execution_count": 94,
   "id": "b2a4a051-2c02-42ee-a548-c3bddb61913f",
   "metadata": {},
   "outputs": [],
   "source": [
    "connection = sqlite3.connect('DashboardDataHub.db')"
   ]
  },
  {
   "cell_type": "code",
   "execution_count": 95,
   "id": "b9aede77-2c30-4c7b-a958-e6ba030b5f47",
   "metadata": {},
   "outputs": [],
   "source": [
    "cursor = connection.cursor()"
   ]
  },
  {
   "cell_type": "markdown",
   "id": "b1ec4e87-0320-4eb2-986e-4a32dec37b3c",
   "metadata": {},
   "source": [
    "#### Creating tables and populating them"
   ]
  },
  {
   "cell_type": "code",
   "execution_count": 101,
   "id": "adc5f13a-608f-4a5e-8913-05aa31bfba6e",
   "metadata": {},
   "outputs": [
    {
     "data": {
      "text/plain": [
       "13"
      ]
     },
     "execution_count": 101,
     "metadata": {},
     "output_type": "execute_result"
    }
   ],
   "source": [
    "etsy_orders.to_sql('etsy_orders', connection, if_exists='replace')\n",
    "etsy_deposits.to_sql('etsy_deposits', connection, if_exists='replace')\n",
    "etsy_items.to_sql('etsy_items', connection, if_exists='replace')\n",
    "etsy_payments.to_sql('etsy_payments', connection, if_exists='replace')\n",
    "yoycol_orders.to_sql('yoycol_orders', connection, if_exists='replace')\n",
    "printify_orders.to_sql('printify_orders', connection, if_exists='replace')\n",
    "printify_orders2.to_sql('printify_orders2', connection, if_exists='replace')"
   ]
  },
  {
   "cell_type": "markdown",
   "id": "14a7ad57-1a16-4ff0-8372-62de7368b29c",
   "metadata": {},
   "source": [
    "#### Validating from DB"
   ]
  },
  {
   "cell_type": "code",
   "execution_count": 125,
   "id": "08562831-7882-4d93-abc3-e1406efe29af",
   "metadata": {},
   "outputs": [
    {
     "data": {
      "text/plain": [
       "[(0, 'index', 'INTEGER', 0, None, 0),\n",
       " (1, 'Sale Date', 'TEXT', 0, None, 0),\n",
       " (2, 'Order ID', 'INTEGER', 0, None, 0),\n",
       " (3, 'Buyer User ID', 'TEXT', 0, None, 0),\n",
       " (4, 'Full Name', 'TEXT', 0, None, 0)]"
      ]
     },
     "execution_count": 125,
     "metadata": {},
     "output_type": "execute_result"
    }
   ],
   "source": [
    "# cursor.execute(\"Select * From etsy_orders Where ShipState = TX\")\n",
    "cursor.execute(\"PRAGMA table_info(etsy_orders);\")\n",
    "cursor.fetchall()[:5]\n",
    "\n",
    "#cursor.execute(\"Select * From etsy_orders Where [Ship State] like 'TX';\")\n",
    "#cursor.fetchall()"
   ]
  },
  {
   "cell_type": "code",
   "execution_count": 126,
   "id": "b1b81777-101f-49db-9003-c56d040356a7",
   "metadata": {},
   "outputs": [],
   "source": [
    "connection.commit()"
   ]
  },
  {
   "cell_type": "code",
   "execution_count": 98,
   "id": "e14f4484-986b-409d-86cb-3137c02fa2d0",
   "metadata": {},
   "outputs": [],
   "source": [
    "df_orders = pd.read_sql_query('Select * from etsy_orders', connection)"
   ]
  },
  {
   "cell_type": "code",
   "execution_count": null,
   "id": "c7b5cf7b-bc02-4d78-9eda-2c44c0befeb5",
   "metadata": {},
   "outputs": [],
   "source": []
  },
  {
   "cell_type": "markdown",
   "id": "b0e3191e-a6ef-4bbb-94a1-0debf425dbd9",
   "metadata": {},
   "source": [
    "## Data and Functions for Orders View"
   ]
  },
  {
   "cell_type": "markdown",
   "id": "ce5399e9-4d24-43d4-91ce-7fe34368dc28",
   "metadata": {},
   "source": [
    "#### Combining Etsy's data"
   ]
  },
  {
   "cell_type": "code",
   "execution_count": 16,
   "id": "5cd5b312-a9bb-4563-aebd-2ae65d3de72f",
   "metadata": {},
   "outputs": [],
   "source": [
    "\n",
    "# Joining 2  Dataset -> Orders and Items, by OrderID\n",
    "items_cols_to_join = ['Order ID', 'Ship Name', 'Ship Address1', 'Ship Address2', 'Variations', 'Date Paid', 'Quantity', 'Item Total', 'Item Name', 'Transaction ID', 'Price']\n",
    "\n",
    "items_to_join = etsy_items[items_cols_to_join]\n",
    "items_to_join.columns = ['Order ID', 'Item-Ship Name', 'Item-Ship Address1', 'Item-Ship Address2', 'Item-Variations', 'Item-Date Paid', 'Item-Quantity', 'Item-Item Total', 'Item-Item Name', 'Item-Transaction ID', 'Item-Price']\n",
    "\n",
    "orders_items_joined = etsy_orders.copy()\n",
    "orders_items_joined = pd.merge(orders_items_joined,items_to_join,on='Order ID',how='outer')\n",
    "\n",
    "# drop_duplicates()"
   ]
  },
  {
   "cell_type": "markdown",
   "id": "80b44aa1-5d00-4d9f-9a69-d94790a6fd9c",
   "metadata": {},
   "source": [
    "#### Integrating distributors data"
   ]
  },
  {
   "cell_type": "code",
   "execution_count": 17,
   "id": "34b32f1d-ad41-43fe-a2cf-72e343b0b4bd",
   "metadata": {},
   "outputs": [],
   "source": [
    "def ordersDataTransform(**kwargs):\n",
    "    # Combining all datasets of the same kind that come in multiples\n",
    "    stores_ID_keys = {'etsy':\"Order ID\", 'printify': \"Sales channel ID\", 'yoycol':\"Store order ID\"}\n",
    "    data_holder = {}\n",
    "    for source, datasets in kwargs.items():\n",
    "        order_frames = None\n",
    "        if not isinstance(datasets, list):\n",
    "            raise IndexError('InvalidIndexError -> dataset passed must be of type list including singular')\n",
    "        if len(datasets) > 1:\n",
    "            for i in range(len(datasets)):\n",
    "                if order_frames is None:\n",
    "                    order_frames = pd.DataFrame(datasets[0])\n",
    "                    if i + 1 < len(datasets):\n",
    "                        temp_frames = pd.concat([order_frames, pd.DataFrame(datasets[i+1])])\n",
    "                        if order_frames.duplicated().any():\n",
    "                            order_frames.drop_duplicates(inplace=True)\n",
    "                        else:\n",
    "                            order_frames = temp_frames\n",
    "                    else:\n",
    "                        data_holder[source] = order_frames\n",
    "                else:\n",
    "                    if i + 1 < len(datasets):\n",
    "                        temp_frames = pd.concat([order_frames, pd.DataFrame(datasets[i+1])])\n",
    "                        if order_frames.duplicated().any():\n",
    "                            order_frames.drop_duplicates(inplace=True)\n",
    "                        else:\n",
    "                            order_frames = temp_frames\n",
    "                    else:\n",
    "                        data_holder[source] = order_frames\n",
    "        else:\n",
    "            data_holder[source] = pd.DataFrame(datasets[0])\n",
    "\n",
    "    iter_index = 0\n",
    "    on_key = 'Order ID'\n",
    "    # Bring all datasets together for the final Orders_all dataset\n",
    "    for src, data in data_holder.items():\n",
    "        mapper_key = stores_ID_keys.get(src.lower())\n",
    "        if mapper_key != on_key:\n",
    "            data[on_key] = data[mapper_key]\n",
    "            data.drop(columns=[mapper_key], inplace=True)\n",
    "            data.columns = data.columns.map(lambda x: src[:4] + \"-\" + x if x != on_key else x)\n",
    "            \n",
    "            \n",
    "        data.set_index('Order ID', inplace=True)\n",
    "        data.index = data.index.map(lambda x:str(x))\n",
    "        if iter_index == 0:\n",
    "            left_data = data\n",
    "        else:\n",
    "            left_data = left_data.join(data)\n",
    "        iter_index += 1\n",
    "    return left_data"
   ]
  },
  {
   "cell_type": "code",
   "execution_count": 18,
   "id": "d5134847-6ceb-4f9b-8d5a-ab7e74bf0105",
   "metadata": {},
   "outputs": [],
   "source": [
    "orders_all = ordersDataTransform(etsy= [orders_items_joined], printify=[printify_orders, printify_orders_2, printify_orders_3, printify_orders_4], yoycol=[yoycol_orders])"
   ]
  },
  {
   "cell_type": "code",
   "execution_count": null,
   "id": "a01e3370-7c02-4336-98f1-d81d623eaecf",
   "metadata": {},
   "outputs": [],
   "source": []
  },
  {
   "cell_type": "code",
   "execution_count": 19,
   "id": "81656f4a-f8d7-4564-b193-cbee147795a8",
   "metadata": {},
   "outputs": [],
   "source": [
    "orders = orders_all.copy()\n"
   ]
  },
  {
   "cell_type": "code",
   "execution_count": 775,
   "id": "cf30c371-30ad-491d-8de6-ab50d69367c6",
   "metadata": {},
   "outputs": [
    {
     "data": {
      "text/plain": [
       "False"
      ]
     },
     "execution_count": 775,
     "metadata": {},
     "output_type": "execute_result"
    }
   ],
   "source": [
    "\n",
    "query = orders.index == '2581208238'\n",
    "query.any()"
   ]
  },
  {
   "cell_type": "code",
   "execution_count": 747,
   "id": "82ea71e8-3f32-4d81-93de-25d7573f362d",
   "metadata": {},
   "outputs": [
    {
     "data": {
      "text/plain": [
       "Order ID\n",
       "2581208238                    NaN\n",
       "2588129685    2022-09-07 12:09:37\n",
       "2588971167    2022-09-08 08:09:14\n",
       "2597567764    2022-09-13 09:22:29\n",
       "2601131957    2022-09-20 03:51:20\n",
       "2601327225    2022-09-20 00:10:29\n",
       "2603597361    2022-09-22 02:10:14\n",
       "2605367029    2022-09-23 18:10:58\n",
       "2606290199    2022-09-24 13:16:40\n",
       "2612073269    2022-09-30 02:10:44\n",
       "2626879413    2022-10-14 04:09:27\n",
       "2629335152    2022-10-12 00:10:58\n",
       "2630109082    2022-10-12 14:10:03\n",
       "2646742964    2022-10-27 06:09:22\n",
       "2647245525    2022-11-01 10:11:15\n",
       "2648859981    2022-11-03 00:09:20\n",
       "2652711442    2022-11-01 16:01:40\n",
       "2654190407    2022-11-07 02:09:49\n",
       "2656110524    2022-11-04 08:09:24\n",
       "Name: yoyc-Created at, dtype: object"
      ]
     },
     "execution_count": 747,
     "metadata": {},
     "output_type": "execute_result"
    }
   ],
   "source": [
    "orders_all[orders_all['prin-Date created'].isnull()]['yoyc-Created at']"
   ]
  },
  {
   "cell_type": "code",
   "execution_count": null,
   "id": "f866a8f7-e136-4023-893e-86ff8a171743",
   "metadata": {},
   "outputs": [],
   "source": [
    "\n",
    "\n",
    "orders['Image Path'] = np.nan"
   ]
  },
  {
   "cell_type": "code",
   "execution_count": 778,
   "id": "eacd97c1-412e-4386-87ee-4ad79bcf3b4d",
   "metadata": {},
   "outputs": [
    {
     "data": {
      "text/plain": [
       "Index(['25881', '25889', '25975', '25994', '26011', '26013', '26015', '26018',\n",
       "       '26035', '26053', '26062', '26062', '26064', '26084', '26084', '26089',\n",
       "       '26092', '26098', '26101', '26102', '26120', '26128', '26128', '26130',\n",
       "       '26133', '26135', '26142', '26142', '26147', '26149', '26158', '26167',\n",
       "       '26177', '26181', '26188', '26196', '26208', '26221', '26221', '26232',\n",
       "       '26248', '26251', '26258', '26261', '26268', '26273', '26274', '26278',\n",
       "       '26287', '26293', '26295', '26301', '26305', '26318', '26408', '26408',\n",
       "       '26410', '26419', '26421', '26435', '26440', '26441', '26446', '26453',\n",
       "       '26455', '26455', '26463', '26463', '26466', '26467', '26467', '26472',\n",
       "       '26474', '26488', '26499', '26502', '26512', '26514', '26517', '26525',\n",
       "       '26527', '26527', '26533', '26539', '26539', '26541', '26559', '26561',\n",
       "       '26567', '26593', '26602', '26606'],\n",
       "      dtype='object', name='Order ID')"
      ]
     },
     "execution_count": 778,
     "metadata": {},
     "output_type": "execute_result"
    }
   ],
   "source": [
    "df.index.map(lambda x: x[:5])"
   ]
  },
  {
   "cell_type": "code",
   "execution_count": 20,
   "id": "1691e795-f876-4e70-ab2f-0ac33da68bb1",
   "metadata": {},
   "outputs": [],
   "source": [
    "df = orders_all.copy()\n"
   ]
  },
  {
   "cell_type": "code",
   "execution_count": null,
   "id": "9e5697dd-9b1b-41d0-9dac-b402e9198b2c",
   "metadata": {},
   "outputs": [],
   "source": []
  },
  {
   "cell_type": "code",
   "execution_count": 900,
   "id": "3228959b-2f0f-4875-8e66-5a89cb0c4159",
   "metadata": {},
   "outputs": [],
   "source": []
  },
  {
   "cell_type": "markdown",
   "id": "02d4cf70-4af6-4a46-b96b-859b1cc58d78",
   "metadata": {},
   "source": [
    "#### Timeframe resample\n",
    "- Daily\n",
    "- Weekly\n",
    "- Monthly\n",
    "- Yearly\n"
   ]
  },
  {
   "cell_type": "code",
   "execution_count": null,
   "id": "4cc63701-f0c6-4761-93b9-c5958eeaa79f",
   "metadata": {},
   "outputs": [],
   "source": []
  },
  {
   "cell_type": "markdown",
   "id": "bc98e37e-da40-4bbe-a942-2d71a096becf",
   "metadata": {},
   "source": [
    "#### Order By\n",
    "- Date: Most recent\n",
    "- Date: Older First\n",
    "- Price: Highest to lowest\n",
    "- Price: Lowest to highest\n",
    "- Most Sold\n",
    "- **maybe** Yields Best Profits\n"
   ]
  },
  {
   "cell_type": "code",
   "execution_count": 945,
   "id": "e76f8616-e067-4481-ad2f-57c1a4e67498",
   "metadata": {},
   "outputs": [],
   "source": [
    "import os\n",
    "import re"
   ]
  },
  {
   "cell_type": "code",
   "execution_count": 1171,
   "id": "c4136fdb-8cd9-4ad5-9724-acf85b2b80cf",
   "metadata": {},
   "outputs": [],
   "source": [
    "s = []\n",
    "for i in df.index:\n",
    "   s.append(i[5:])"
   ]
  },
  {
   "cell_type": "code",
   "execution_count": 1172,
   "id": "657c81ad-f5bf-4d0d-be0c-171e61b2f8c2",
   "metadata": {},
   "outputs": [
    {
     "data": {
      "text/plain": [
       "90"
      ]
     },
     "execution_count": 1172,
     "metadata": {},
     "output_type": "execute_result"
    }
   ],
   "source": [
    "len(pd.Series(s).unique())"
   ]
  },
  {
   "cell_type": "code",
   "execution_count": 1173,
   "id": "c764733f-f42b-4094-817f-35a84a0f335c",
   "metadata": {},
   "outputs": [
    {
     "data": {
      "text/plain": [
       "93"
      ]
     },
     "execution_count": 1173,
     "metadata": {},
     "output_type": "execute_result"
    }
   ],
   "source": [
    "len(s)"
   ]
  },
  {
   "cell_type": "code",
   "execution_count": 1178,
   "id": "cf7cb465-1e05-4d3f-a951-93eb75b3caa6",
   "metadata": {},
   "outputs": [
    {
     "data": {
      "text/plain": [
       "'media/no-prod-img'"
      ]
     },
     "execution_count": 1178,
     "metadata": {},
     "output_type": "execute_result"
    }
   ],
   "source": [
    "df['Image Path'][df['Image Path'].index == '2581208238'].values[0]"
   ]
  },
  {
   "cell_type": "code",
   "execution_count": 1180,
   "id": "5a13b682-382d-43d6-9de5-ea08228fa47d",
   "metadata": {},
   "outputs": [
    {
     "data": {
      "text/plain": [
       "array(['media/no-prod-img',\n",
       "       'Version 2 of Going Merry ! One Piece Spiral Bound Notebook Journal.jpg'],\n",
       "      dtype=object)"
      ]
     },
     "execution_count": 1180,
     "metadata": {},
     "output_type": "execute_result"
    }
   ],
   "source": [
    "df['Image Path'].unique()"
   ]
  },
  {
   "cell_type": "code",
   "execution_count": 1191,
   "id": "f6ea914b-e93d-48bc-80df-37b91db7502c",
   "metadata": {},
   "outputs": [
    {
     "data": {
      "text/plain": [
       "'22-Sep-07'"
      ]
     },
     "execution_count": 1191,
     "metadata": {},
     "output_type": "execute_result"
    }
   ],
   "source": [
    "df['Sale Date'][2].strftime('%y-%b-%d')"
   ]
  },
  {
   "cell_type": "code",
   "execution_count": 1227,
   "id": "a157d0a8-a7c6-493b-b6a3-90a170a5c082",
   "metadata": {},
   "outputs": [],
   "source": [
    "df['Progress'] = df.apply(lambda x: 'Closed', axis=1)"
   ]
  },
  {
   "cell_type": "code",
   "execution_count": 1220,
   "id": "79df25ca-cfc8-4dd3-9b91-5d54c295244d",
   "metadata": {},
   "outputs": [],
   "source": [
    "df['Source'] = df.apply(lambda x: 'Printify' if not np.isnan(x['prin-Printify ID']) else 'Yoycol', axis=1)"
   ]
  },
  {
   "cell_type": "code",
   "execution_count": null,
   "id": "3edb70b6-020f-47f2-a917-6ae207101118",
   "metadata": {},
   "outputs": [],
   "source": [
    "colors = {'Closed' : 'light blue', 'Open': 'Green', 'On Transit': 'Orange', 'Canceled': 'Red'}\n",
    "orders_data['Progress Color'] = orders_data.apply(lambda x: colors.get(x),  axis=1)"
   ]
  },
  {
   "cell_type": "code",
   "execution_count": null,
   "id": "a78b0586-22cd-41f4-9e2c-64b008288748",
   "metadata": {},
   "outputs": [],
   "source": [
    "df.iloc[2]['prin-Printify ID'].isnan"
   ]
  },
  {
   "cell_type": "code",
   "execution_count": 1217,
   "id": "e6829d38-bb7c-4cc3-9733-83cf01fadc53",
   "metadata": {},
   "outputs": [
    {
     "data": {
      "text/plain": [
       "True"
      ]
     },
     "execution_count": 1217,
     "metadata": {},
     "output_type": "execute_result"
    }
   ],
   "source": [
    "np.isnan(df.iloc[2]['prin-Printify ID'])"
   ]
  },
  {
   "cell_type": "code",
   "execution_count": 1240,
   "id": "c2532d1d-5d51-4f9f-9b6b-46665b3a4617",
   "metadata": {},
   "outputs": [
    {
     "name": "stderr",
     "output_type": "stream",
     "text": [
      "/var/folders/y0/lrdnkktn1v17ttgx4l56mdzw0000gn/T/ipykernel_6960/1656262694.py:1: SettingWithCopyWarning: \n",
      "A value is trying to be set on a copy of a slice from a DataFrame\n",
      "\n",
      "See the caveats in the documentation: https://pandas.pydata.org/pandas-docs/stable/user_guide/indexing.html#returning-a-view-versus-a-copy\n",
      "  df['Progress'][df['Progress'].index == '2581208238'] = 'Test'\n"
     ]
    }
   ],
   "source": [
    "df['Progress'][df['Progress'].index == '2581208238'] = 'Test'"
   ]
  },
  {
   "cell_type": "code",
   "execution_count": null,
   "id": "1b3858f1-4abf-4af5-9d11-ac9b85cec640",
   "metadata": {},
   "outputs": [],
   "source": [
    "df.index == '2581208238'"
   ]
  },
  {
   "cell_type": "code",
   "execution_count": 1255,
   "id": "a9967d3f-4230-4c96-b8e1-4174202bb206",
   "metadata": {},
   "outputs": [
    {
     "name": "stderr",
     "output_type": "stream",
     "text": [
      "/var/folders/y0/lrdnkktn1v17ttgx4l56mdzw0000gn/T/ipykernel_6960/1663960511.py:1: SettingWithCopyWarning: \n",
      "A value is trying to be set on a copy of a slice from a DataFrame\n",
      "\n",
      "See the caveats in the documentation: https://pandas.pydata.org/pandas-docs/stable/user_guide/indexing.html#returning-a-view-versus-a-copy\n",
      "  df['Progress'][df['Progress'].index == '2588129685'] = 'Test'\n"
     ]
    }
   ],
   "source": [
    "df['Progress'][df['Progress'].index == '2588129685'] = 'Test'"
   ]
  },
  {
   "cell_type": "code",
   "execution_count": 1259,
   "id": "c6dd275a-d605-49a2-95f0-b9cb44a288ea",
   "metadata": {},
   "outputs": [
    {
     "name": "stderr",
     "output_type": "stream",
     "text": [
      "/var/folders/y0/lrdnkktn1v17ttgx4l56mdzw0000gn/T/ipykernel_6960/296491439.py:1: SettingWithCopyWarning: \n",
      "A value is trying to be set on a copy of a slice from a DataFrame\n",
      "\n",
      "See the caveats in the documentation: https://pandas.pydata.org/pandas-docs/stable/user_guide/indexing.html#returning-a-view-versus-a-copy\n",
      "  df['Progress'][df['Progress'].index[3]] = 'Yes'\n"
     ]
    }
   ],
   "source": [
    "df['Progress'][df['Progress'].index[3]] = 'Yes'"
   ]
  },
  {
   "cell_type": "code",
   "execution_count": 49,
   "id": "a1042091-eac7-4aa5-9206-f695eb41f455",
   "metadata": {},
   "outputs": [],
   "source": [
    "eval_progress = {'2581208238': 'Open'}"
   ]
  },
  {
   "cell_type": "code",
   "execution_count": 50,
   "id": "b214f35a-7379-4130-89ae-2c87aa80fbb3",
   "metadata": {},
   "outputs": [],
   "source": [
    "df['Progress'] = df.index.map(lambda x: eval_progress.get(x) if eval_progress.get(x) else 'Closed')"
   ]
  },
  {
   "cell_type": "code",
   "execution_count": null,
   "id": "b8b5c66a-7a90-46a7-8ae2-e96c255d060a",
   "metadata": {},
   "outputs": [],
   "source": [
    "df.head(2)"
   ]
  },
  {
   "cell_type": "code",
   "execution_count": null,
   "id": "4850f1ce-f60e-48eb-bad7-1f8563844e4a",
   "metadata": {},
   "outputs": [],
   "source": [
    "df['Sale Date'].loc[today - show_date: today]"
   ]
  },
  {
   "cell_type": "code",
   "execution_count": 85,
   "id": "efdf9f1f-24ea-468f-94da-78fa6833e84b",
   "metadata": {},
   "outputs": [
    {
     "data": {
      "text/plain": [
       "Order ID\n",
       "2581208238   2022-08-28\n",
       "2588129685   2022-09-06\n",
       "2588971167   2022-09-07\n",
       "2597567764   2022-09-12\n",
       "2599495408   2022-09-14\n",
       "                ...    \n",
       "2656110524   2022-11-03\n",
       "2656774348   2022-11-04\n",
       "2659301066   2022-11-06\n",
       "2660261866   2022-11-06\n",
       "2660614142   2022-11-06\n",
       "Name: Sale Date, Length: 103, dtype: datetime64[ns]"
      ]
     },
     "execution_count": 85,
     "metadata": {},
     "output_type": "execute_result"
    }
   ],
   "source": [
    "df['Sale Date']= df['Sale Date'].apply(lambda x: pd.to_datetime(x))\n",
    "df['Sale Date']"
   ]
  },
  {
   "cell_type": "code",
   "execution_count": 73,
   "id": "ef5596a5-1b1c-4eae-b1ac-886efe0650fd",
   "metadata": {},
   "outputs": [
    {
     "data": {
      "text/plain": [
       "Timestamp('2022-10-11 01:07:48.948186')"
      ]
     },
     "execution_count": 73,
     "metadata": {},
     "output_type": "execute_result"
    }
   ],
   "source": [
    "pd.to_datetime(today-show_date)"
   ]
  },
  {
   "cell_type": "code",
   "execution_count": null,
   "id": "4770deac-4e33-4528-a79b-25c4301e0883",
   "metadata": {},
   "outputs": [],
   "source": [
    "df['Sale Date'].loc[:today]"
   ]
  },
  {
   "cell_type": "code",
   "execution_count": null,
   "id": "f60d56ab-5184-466e-a74a-55c59f0735e3",
   "metadata": {},
   "outputs": [],
   "source": []
  }
 ],
 "metadata": {
  "kernelspec": {
   "display_name": "Python 3.10.4 ('benvpg')",
   "language": "python",
   "name": "python3"
  },
  "language_info": {
   "codemirror_mode": {
    "name": "ipython",
    "version": 3
   },
   "file_extension": ".py",
   "mimetype": "text/x-python",
   "name": "python",
   "nbconvert_exporter": "python",
   "pygments_lexer": "ipython3",
   "version": "3.10.4"
  },
  "vscode": {
   "interpreter": {
    "hash": "ca60d2011ac5b0b8b307810e979e8c4c8170861c4ba2fcbb5e2b458a415fe839"
   }
  }
 },
 "nbformat": 4,
 "nbformat_minor": 5
}
